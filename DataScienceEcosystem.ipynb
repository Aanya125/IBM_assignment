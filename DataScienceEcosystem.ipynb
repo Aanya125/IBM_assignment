{
 "cells": [
  {
   "cell_type": "markdown",
   "id": "7b94d722-3c38-4a05-885d-5723b365fd07",
   "metadata": {},
   "source": [
    "# Data Science Tools and Ecosystem"
   ]
  },
  {
   "cell_type": "markdown",
   "id": "457fb80d-177e-49a1-80a0-d95aafdbc58f",
   "metadata": {},
   "source": [
    "In this notebook, Data Science Tools and Ecosystem are summarized."
   ]
  },
  {
   "cell_type": "markdown",
   "id": "549d3e19-c94a-402c-89c7-e33392c52785",
   "metadata": {},
   "source": [
    "**Objectives:**\n",
    "\n",
    "- Create a Jupyter Notebook\n",
    "- List popular languages for Data Science\n",
    "- List commonly used libraries\n",
    "- Create a table of Data Science Tools\n",
    "- Perform simple arithmethic in code cells"
   ]
  },
  {
   "cell_type": "markdown",
   "id": "11362d35-9114-41d7-a8ff-0d5acb1a0db5",
   "metadata": {},
   "source": [
    "Some of the popular languages that Data Scientists use are:\n",
    "\n",
    "1) Python\n",
    "1) R\n",
    "1) SQL"
   ]
  },
  {
   "cell_type": "markdown",
   "id": "2f6874bd-1f5b-41a7-8463-9059d14f5098",
   "metadata": {},
   "source": [
    "Some of the commonly used libraries used by Data Scientists include:\n",
    "\n",
    "1) Pandas\n",
    "2) NumPy\n",
    "3) Scikit-learn"
   ]
  },
  {
   "cell_type": "markdown",
   "id": "ea351bd6-c43e-4fc7-a7e8-31c8966ac208",
   "metadata": {},
   "source": [
    "|Data Science Tools|\n",
    "|:----------------:|\n",
    "|JupyterLab        |\n",
    "|RStudio           |\n",
    "|Jupyter Notebook  |"
   ]
  },
  {
   "cell_type": "markdown",
   "id": "dbb32bd6-8bdd-4f7f-83df-e9ad12fa66c1",
   "metadata": {},
   "source": [
    "Below are a few examples of evaluating arithmetic expressions in Python"
   ]
  },
  {
   "cell_type": "code",
   "execution_count": 2,
   "id": "2118f843-e3ed-401d-a3a3-e43f2988df27",
   "metadata": {},
   "outputs": [
    {
     "data": {
      "text/plain": [
       "17"
      ]
     },
     "execution_count": 2,
     "metadata": {},
     "output_type": "execute_result"
    }
   ],
   "source": [
    "# This a simple arithmetic expression to mutiply then add integers\n",
    "(3 * 4) + 5"
   ]
  },
  {
   "cell_type": "code",
   "execution_count": 3,
   "id": "0485c298-a9b4-49de-9b20-d6b933ca51c5",
   "metadata": {},
   "outputs": [
    {
     "data": {
      "text/plain": [
       "3.3333333333333335"
      ]
     },
     "execution_count": 3,
     "metadata": {},
     "output_type": "execute_result"
    }
   ],
   "source": [
    "# This will convert 200 minutes to hours by diving by 60\n",
    "200 / 60"
   ]
  },
  {
   "cell_type": "markdown",
   "id": "2154ec30-e666-448d-9331-526562a3e4ec",
   "metadata": {},
   "source": [
    "## Author\n",
    "\n",
    "Anannya Vaishnavi"
   ]
  }
 ],
 "metadata": {
  "kernelspec": {
   "display_name": "Python 3 (ipykernel)",
   "language": "python",
   "name": "python3"
  },
  "language_info": {
   "codemirror_mode": {
    "name": "ipython",
    "version": 3
   },
   "file_extension": ".py",
   "mimetype": "text/x-python",
   "name": "python",
   "nbconvert_exporter": "python",
   "pygments_lexer": "ipython3",
   "version": "3.11.7"
  }
 },
 "nbformat": 4,
 "nbformat_minor": 5
}
